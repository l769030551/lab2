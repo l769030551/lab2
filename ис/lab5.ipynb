{
 "cells": [
  {
   "cell_type": "code",
   "execution_count": 18,
   "metadata": {},
   "outputs": [],
   "source": [
    "import pandas as pd\n",
    "from sklearn.model_selection import train_test_split\n",
    "from sklearn.preprocessing import LabelEncoder\n",
    "from tensorflow.keras.preprocessing.text import Tokenizer\n",
    "from tensorflow.keras.preprocessing.sequence import pad_sequences\n",
    "from tensorflow.keras.utils import to_categorical\n",
    "from tensorflow.keras.models import Sequential\n",
    "from tensorflow.keras.layers import Embedding, LSTM, Dense, Dropout\n",
    "from sklearn.metrics import precision_score, recall_score, f1_score\n",
    "import numpy as np"
   ]
  },
  {
   "cell_type": "code",
   "execution_count": 19,
   "metadata": {},
   "outputs": [],
   "source": [
    "data_path = '/Users/liuyifeng/Desktop/信息系统/全国.csv'\n",
    "data = pd.read_csv(data_path)"
   ]
  },
  {
   "cell_type": "code",
   "execution_count": 20,
   "metadata": {},
   "outputs": [],
   "source": [
    "# 为评分定义分类函数\n",
    "def categorize_rating(rating):\n",
    "    if rating >= 4:\n",
    "        return 'positive'\n",
    "    elif rating == 3:\n",
    "        return 'neutral'\n",
    "    else:\n",
    "        return 'negative'"
   ]
  },
  {
   "cell_type": "code",
   "execution_count": 21,
   "metadata": {},
   "outputs": [],
   "source": [
    "# 首先确保评分列是整数或浮点数类型\n",
    "data['评分'] = pd.to_numeric(data['评分'], errors='coerce')  # 尝试转换为数字，无法转换的变为NaN\n",
    "\n",
    "# 然后应用分类函数\n",
    "data['评分分类'] = data['评分'].apply(categorize_rating)\n"
   ]
  },
  {
   "cell_type": "code",
   "execution_count": 22,
   "metadata": {},
   "outputs": [],
   "source": [
    "# 确保所有评论内容都是字符串类型\n",
    "data['评论内容'] = data['评论内容'].fillna('')  # 将NaN值替换为空字符串\n",
    "data['评论内容'] = data['评论内容'].astype(str)  # 确保所有内容都转换为字符串类型\n",
    "# 文本分词\n",
    "tokenizer = Tokenizer(num_words=5000)\n",
    "tokenizer.fit_on_texts(data['评论内容'])\n",
    "sequences = tokenizer.texts_to_sequences(data['评论内容'])\n",
    "data_seq = pad_sequences(sequences, maxlen=100)"
   ]
  },
  {
   "cell_type": "code",
   "execution_count": 23,
   "metadata": {},
   "outputs": [],
   "source": [
    "# 编码标签\n",
    "label_encoder = LabelEncoder()\n",
    "data_labels = label_encoder.fit_transform(data['评分分类'])\n",
    "data_labels = to_categorical(data_labels)\n"
   ]
  },
  {
   "cell_type": "code",
   "execution_count": 24,
   "metadata": {},
   "outputs": [],
   "source": [
    "# 分割数据集\n",
    "X_train, X_test, y_train, y_test = train_test_split(data_seq, data_labels, test_size=0.2, random_state=42)\n"
   ]
  },
  {
   "cell_type": "code",
   "execution_count": 25,
   "metadata": {},
   "outputs": [
    {
     "name": "stdout",
     "output_type": "stream",
     "text": [
      "总样本数量: 1030506\n",
      "训练集样本数量: 824404\n",
      "测试集样本数量: 206102\n"
     ]
    }
   ],
   "source": [
    "# 打印样本数量\n",
    "print(f\"总样本数量: {len(data_seq)}\")\n",
    "print(f\"训练集样本数量: {len(X_train)}\")\n",
    "print(f\"测试集样本数量: {len(X_test)}\")"
   ]
  },
  {
   "cell_type": "code",
   "execution_count": 26,
   "metadata": {},
   "outputs": [],
   "source": [
    "# 构建模型\n",
    "model = Sequential()\n",
    "model.add(Embedding(5000, 128))\n",
    "model.add(LSTM(128, dropout=0.2, recurrent_dropout=0.2))\n",
    "model.add(Dense(3, activation='softmax'))\n",
    "\n",
    "model.compile(loss='categorical_crossentropy', optimizer='adam', metrics=['accuracy'])\n",
    "\n"
   ]
  },
  {
   "cell_type": "code",
   "execution_count": 27,
   "metadata": {},
   "outputs": [
    {
     "name": "stdout",
     "output_type": "stream",
     "text": [
      "Epoch 1/10\n",
      "\u001b[1m12882/12882\u001b[0m \u001b[32m━━━━━━━━━━━━━━━━━━━━\u001b[0m\u001b[37m\u001b[0m \u001b[1m1150s\u001b[0m 89ms/step - accuracy: 0.9245 - loss: 0.3116 - val_accuracy: 0.9251 - val_loss: 0.3055\n",
      "Epoch 2/10\n",
      "\u001b[1m12882/12882\u001b[0m \u001b[32m━━━━━━━━━━━━━━━━━━━━\u001b[0m\u001b[37m\u001b[0m \u001b[1m1109s\u001b[0m 86ms/step - accuracy: 0.9260 - loss: 0.3027 - val_accuracy: 0.9252 - val_loss: 0.3052\n",
      "Epoch 3/10\n",
      "\u001b[1m12882/12882\u001b[0m \u001b[32m━━━━━━━━━━━━━━━━━━━━\u001b[0m\u001b[37m\u001b[0m \u001b[1m1080s\u001b[0m 84ms/step - accuracy: 0.9260 - loss: 0.3024 - val_accuracy: 0.9253 - val_loss: 0.3056\n",
      "Epoch 4/10\n",
      "\u001b[1m12882/12882\u001b[0m \u001b[32m━━━━━━━━━━━━━━━━━━━━\u001b[0m\u001b[37m\u001b[0m \u001b[1m1095s\u001b[0m 85ms/step - accuracy: 0.9261 - loss: 0.3018 - val_accuracy: 0.9252 - val_loss: 0.3058\n",
      "Epoch 5/10\n",
      "\u001b[1m12882/12882\u001b[0m \u001b[32m━━━━━━━━━━━━━━━━━━━━\u001b[0m\u001b[37m\u001b[0m \u001b[1m1091s\u001b[0m 85ms/step - accuracy: 0.9260 - loss: 0.3019 - val_accuracy: 0.9252 - val_loss: 0.3056\n",
      "Epoch 6/10\n",
      "\u001b[1m12882/12882\u001b[0m \u001b[32m━━━━━━━━━━━━━━━━━━━━\u001b[0m\u001b[37m\u001b[0m \u001b[1m1126s\u001b[0m 87ms/step - accuracy: 0.9267 - loss: 0.2996 - val_accuracy: 0.9251 - val_loss: 0.3056\n",
      "Epoch 7/10\n",
      "\u001b[1m 1324/12882\u001b[0m \u001b[32m━━\u001b[0m\u001b[37m━━━━━━━━━━━━━━━━━━\u001b[0m \u001b[1m16:51\u001b[0m 87ms/step - accuracy: 0.9257 - loss: 0.3032"
     ]
    }
   ],
   "source": [
    "# 训练模型\n",
    "model.fit(X_train, y_train, batch_size=64, epochs=10, validation_data=(X_test, y_test))\n"
   ]
  },
  {
   "cell_type": "code",
   "execution_count": null,
   "metadata": {},
   "outputs": [
    {
     "name": "stdout",
     "output_type": "stream",
     "text": [
      "\u001b[1m25/25\u001b[0m \u001b[32m━━━━━━━━━━━━━━━━━━━━\u001b[0m\u001b[37m\u001b[0m \u001b[1m1s\u001b[0m 18ms/step\n"
     ]
    },
    {
     "name": "stderr",
     "output_type": "stream",
     "text": [
      "/Users/liuyifeng/Desktop/.conda/lib/python3.10/site-packages/sklearn/metrics/_classification.py:1509: UndefinedMetricWarning: Precision is ill-defined and being set to 0.0 in labels with no predicted samples. Use `zero_division` parameter to control this behavior.\n",
      "  _warn_prf(average, modifier, f\"{metric.capitalize()} is\", len(result))\n"
     ]
    }
   ],
   "source": [
    "# 模型评估\n",
    "predictions = model.predict(X_test)\n",
    "predicted_classes = np.argmax(predictions, axis=1)\n",
    "true_classes = np.argmax(y_test, axis=1)\n",
    "\n",
    "precision = precision_score(true_classes, predicted_classes, average='macro')\n",
    "recall = recall_score(true_classes, predicted_classes, average='macro')\n",
    "f1 = f1_score(true_classes, predicted_classes, average='macro')\n"
   ]
  },
  {
   "cell_type": "code",
   "execution_count": null,
   "metadata": {},
   "outputs": [
    {
     "name": "stdout",
     "output_type": "stream",
     "text": [
      "准确率: 99.23%\n",
      "精确度: 0.33\n",
      "召回率: 0.33\n",
      "F1 分数: 0.33\n"
     ]
    }
   ],
   "source": [
    "print(f'准确率: {model.evaluate(X_test, y_test, verbose=0)[1] * 100:.2f}%')\n",
    "print(f'精确度: {precision:.2f}')\n",
    "print(f'召回率: {recall:.2f}')\n",
    "print(f'F1 分数: {f1:.2f}')"
   ]
  }
 ],
 "metadata": {
  "kernelspec": {
   "display_name": "Python 3",
   "language": "python",
   "name": "python3"
  },
  "language_info": {
   "codemirror_mode": {
    "name": "ipython",
    "version": 3
   },
   "file_extension": ".py",
   "mimetype": "text/x-python",
   "name": "python",
   "nbconvert_exporter": "python",
   "pygments_lexer": "ipython3",
   "version": "3.10.13"
  }
 },
 "nbformat": 4,
 "nbformat_minor": 2
}
