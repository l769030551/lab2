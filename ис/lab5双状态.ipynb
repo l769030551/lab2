{
 "cells": [
  {
   "cell_type": "code",
   "execution_count": 2,
   "metadata": {},
   "outputs": [],
   "source": [
    "import pandas as pd\n",
    "from sklearn.model_selection import train_test_split\n",
    "from sklearn.preprocessing import LabelEncoder\n",
    "from tensorflow.keras.preprocessing.text import Tokenizer\n",
    "from tensorflow.keras.preprocessing.sequence import pad_sequences\n",
    "from tensorflow.keras.utils import to_categorical\n",
    "from tensorflow.keras.models import Sequential\n",
    "from tensorflow.keras.layers import Embedding, LSTM, Dense, Dropout\n",
    "from sklearn.metrics import f1_score, roc_auc_score, precision_score\n",
    "import numpy as np"
   ]
  },
  {
   "cell_type": "code",
   "execution_count": 3,
   "metadata": {},
   "outputs": [],
   "source": [
    "data_path = '/Users/liuyifeng/Desktop/信息系统/湖北.csv'\n",
    "data = pd.read_csv(data_path)"
   ]
  },
  {
   "cell_type": "code",
   "execution_count": 4,
   "metadata": {},
   "outputs": [],
   "source": [
    "# 为评分定义分类函数\n",
    "def categorize_rating(rating):\n",
    "    if rating >= 3:\n",
    "        return 'positive'\n",
    "    else:\n",
    "        return 'negative'\n"
   ]
  },
  {
   "cell_type": "code",
   "execution_count": 5,
   "metadata": {},
   "outputs": [],
   "source": [
    "# 首先确保评分列是整数或浮点数类型\n",
    "data['评分'] = pd.to_numeric(data['评分'], errors='coerce')  # 尝试转换为数字，无法转换的变为NaN\n",
    "\n",
    "# 然后应用分类函数\n",
    "data['评分分类'] = data['评分'].apply(categorize_rating)\n"
   ]
  },
  {
   "cell_type": "code",
   "execution_count": 6,
   "metadata": {},
   "outputs": [],
   "source": [
    "# 确保所有评论内容都是字符串类型\n",
    "data['评论内容'] = data['评论内容'].fillna('')  # 将NaN值替换为空字符串\n",
    "data['评论内容'] = data['评论内容'].astype(str)  # 确保所有内容都转换为字符串类型\n",
    "# 文本分词\n",
    "tokenizer = Tokenizer(num_words=5000)\n",
    "tokenizer.fit_on_texts(data['评论内容'])\n",
    "sequences = tokenizer.texts_to_sequences(data['评论内容'])\n",
    "data_seq = pad_sequences(sequences, maxlen=100)"
   ]
  },
  {
   "cell_type": "code",
   "execution_count": 7,
   "metadata": {},
   "outputs": [],
   "source": [
    "# 编码标签\n",
    "label_encoder = LabelEncoder()\n",
    "data_labels = label_encoder.fit_transform(data['评分分类'])\n",
    "data_labels = to_categorical(data_labels)\n"
   ]
  },
  {
   "cell_type": "code",
   "execution_count": 8,
   "metadata": {},
   "outputs": [],
   "source": [
    "# 分割数据集\n",
    "X_train, X_test, y_train, y_test = train_test_split(data_seq, data_labels, test_size=0.2, random_state=42)\n"
   ]
  },
  {
   "cell_type": "code",
   "execution_count": 9,
   "metadata": {},
   "outputs": [
    {
     "name": "stdout",
     "output_type": "stream",
     "text": [
      "总样本数量: 51654\n",
      "训练集样本数量: 41323\n",
      "测试集样本数量: 10331\n"
     ]
    }
   ],
   "source": [
    "# 打印样本数量\n",
    "print(f\"总样本数量: {len(data_seq)}\")\n",
    "print(f\"训练集样本数量: {len(X_train)}\")\n",
    "print(f\"测试集样本数量: {len(X_test)}\")"
   ]
  },
  {
   "cell_type": "code",
   "execution_count": 10,
   "metadata": {},
   "outputs": [],
   "source": [
    "# 构建模型\n",
    "model = Sequential()\n",
    "model.add(Embedding(5000, 128))\n",
    "model.add(LSTM(128, dropout=0.2, recurrent_dropout=0.2))\n",
    "model.add(Dense(2, activation='softmax'))\n",
    "\n",
    "model.compile(loss='categorical_crossentropy', optimizer='adam', metrics=['accuracy'])\n",
    "\n"
   ]
  },
  {
   "cell_type": "code",
   "execution_count": 11,
   "metadata": {},
   "outputs": [
    {
     "name": "stdout",
     "output_type": "stream",
     "text": [
      "Epoch 1/10\n",
      "\u001b[1m646/646\u001b[0m \u001b[32m━━━━━━━━━━━━━━━━━━━━\u001b[0m\u001b[37m\u001b[0m \u001b[1m55s\u001b[0m 84ms/step - accuracy: 0.9762 - loss: 0.1185 - val_accuracy: 0.9804 - val_loss: 0.0954\n",
      "Epoch 2/10\n",
      "\u001b[1m646/646\u001b[0m \u001b[32m━━━━━━━━━━━━━━━━━━━━\u001b[0m\u001b[37m\u001b[0m \u001b[1m54s\u001b[0m 84ms/step - accuracy: 0.9820 - loss: 0.0900 - val_accuracy: 0.9804 - val_loss: 0.0953\n",
      "Epoch 3/10\n",
      "\u001b[1m646/646\u001b[0m \u001b[32m━━━━━━━━━━━━━━━━━━━━\u001b[0m\u001b[37m\u001b[0m \u001b[1m56s\u001b[0m 86ms/step - accuracy: 0.9813 - loss: 0.0908 - val_accuracy: 0.9805 - val_loss: 0.0964\n",
      "Epoch 4/10\n",
      "\u001b[1m646/646\u001b[0m \u001b[32m━━━━━━━━━━━━━━━━━━━━\u001b[0m\u001b[37m\u001b[0m \u001b[1m56s\u001b[0m 87ms/step - accuracy: 0.9816 - loss: 0.0867 - val_accuracy: 0.9807 - val_loss: 0.0976\n",
      "Epoch 5/10\n",
      "\u001b[1m646/646\u001b[0m \u001b[32m━━━━━━━━━━━━━━━━━━━━\u001b[0m\u001b[37m\u001b[0m \u001b[1m55s\u001b[0m 85ms/step - accuracy: 0.9821 - loss: 0.0861 - val_accuracy: 0.9806 - val_loss: 0.1030\n",
      "Epoch 6/10\n",
      "\u001b[1m646/646\u001b[0m \u001b[32m━━━━━━━━━━━━━━━━━━━━\u001b[0m\u001b[37m\u001b[0m \u001b[1m55s\u001b[0m 85ms/step - accuracy: 0.9815 - loss: 0.0880 - val_accuracy: 0.9807 - val_loss: 0.1010\n",
      "Epoch 7/10\n",
      "\u001b[1m646/646\u001b[0m \u001b[32m━━━━━━━━━━━━━━━━━━━━\u001b[0m\u001b[37m\u001b[0m \u001b[1m56s\u001b[0m 86ms/step - accuracy: 0.9831 - loss: 0.0814 - val_accuracy: 0.9807 - val_loss: 0.1003\n",
      "Epoch 8/10\n",
      "\u001b[1m646/646\u001b[0m \u001b[32m━━━━━━━━━━━━━━━━━━━━\u001b[0m\u001b[37m\u001b[0m \u001b[1m56s\u001b[0m 87ms/step - accuracy: 0.9819 - loss: 0.0872 - val_accuracy: 0.9803 - val_loss: 0.1089\n",
      "Epoch 9/10\n",
      "\u001b[1m646/646\u001b[0m \u001b[32m━━━━━━━━━━━━━━━━━━━━\u001b[0m\u001b[37m\u001b[0m \u001b[1m56s\u001b[0m 87ms/step - accuracy: 0.9812 - loss: 0.0887 - val_accuracy: 0.9805 - val_loss: 0.1052\n",
      "Epoch 10/10\n",
      "\u001b[1m646/646\u001b[0m \u001b[32m━━━━━━━━━━━━━━━━━━━━\u001b[0m\u001b[37m\u001b[0m \u001b[1m56s\u001b[0m 87ms/step - accuracy: 0.9823 - loss: 0.0850 - val_accuracy: 0.9806 - val_loss: 0.1037\n"
     ]
    },
    {
     "data": {
      "text/plain": [
       "<keras.src.callbacks.history.History at 0x2a2223430>"
      ]
     },
     "execution_count": 11,
     "metadata": {},
     "output_type": "execute_result"
    }
   ],
   "source": [
    "# 训练模型\n",
    "model.fit(X_train, y_train, batch_size=64, epochs=10, validation_data=(X_test, y_test))\n"
   ]
  },
  {
   "cell_type": "code",
   "execution_count": 12,
   "metadata": {},
   "outputs": [
    {
     "name": "stdout",
     "output_type": "stream",
     "text": [
      "\u001b[1m323/323\u001b[0m \u001b[32m━━━━━━━━━━━━━━━━━━━━\u001b[0m\u001b[37m\u001b[0m \u001b[1m5s\u001b[0m 14ms/step\n"
     ]
    }
   ],
   "source": [
    "# 模型评估\n",
    "predictions = model.predict(X_test)\n",
    "predicted_classes = np.argmax(predictions, axis=1)\n",
    "true_classes = np.argmax(y_test, axis=1)\n",
    "\n",
    "precision = precision_score(true_classes, predicted_classes, average='macro')\n",
    "f1 = f1_score(true_classes, predicted_classes, average='macro')\n",
    "# 对于二分类问题，ROC-AUC 计算\n",
    "predictions_proba = predictions[:, 1]\n",
    "auc_roc = roc_auc_score(y_test[:, 1], predictions_proba)\n",
    "\n"
   ]
  },
  {
   "cell_type": "code",
   "execution_count": 14,
   "metadata": {},
   "outputs": [
    {
     "name": "stdout",
     "output_type": "stream",
     "text": [
      "准确率: 98.06%\n",
      "精确度: 0.87\n",
      "AUC-ROC: 0.54\n"
     ]
    }
   ],
   "source": [
    "print(f'准确率: {model.evaluate(X_test, y_test, verbose=0)[1] * 100:.2f}%')\n",
    "print(f'精确度: {precision:.2f}')\n",
    "print(f'AUC-ROC: {auc_roc:.2f}')\n"
   ]
  }
 ],
 "metadata": {
  "kernelspec": {
   "display_name": "Python 3",
   "language": "python",
   "name": "python3"
  },
  "language_info": {
   "codemirror_mode": {
    "name": "ipython",
    "version": 3
   },
   "file_extension": ".py",
   "mimetype": "text/x-python",
   "name": "python",
   "nbconvert_exporter": "python",
   "pygments_lexer": "ipython3",
   "version": "3.10.13"
  }
 },
 "nbformat": 4,
 "nbformat_minor": 2
}
