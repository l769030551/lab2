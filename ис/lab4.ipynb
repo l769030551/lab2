{
 "cells": [
  {
   "cell_type": "code",
   "execution_count": 3,
   "metadata": {},
   "outputs": [],
   "source": [
    "import pandas as pd\n"
   ]
  },
  {
   "cell_type": "code",
   "execution_count": 4,
   "metadata": {},
   "outputs": [],
   "source": [
    "data_path = '/Users/liuyifeng/Desktop/信息系统/北京.csv'\n",
    "data = pd.read_csv(data_path)"
   ]
  },
  {
   "cell_type": "code",
   "execution_count": 5,
   "metadata": {},
   "outputs": [
    {
     "data": {
      "text/plain": [
       "(评论内容    0\n",
       " 评分      0\n",
       " dtype: int64,\n",
       " 评分\n",
       " 5    3612\n",
       " 4     217\n",
       " 3      45\n",
       " 2       3\n",
       " 1       1\n",
       " Name: count, dtype: int64)"
      ]
     },
     "execution_count": 5,
     "metadata": {},
     "output_type": "execute_result"
    }
   ],
   "source": [
    "data = data[['评论内容', '评分']]\n",
    "\n",
    "# 检查缺失值\n",
    "missing_values = data.isnull().sum()\n",
    "\n",
    "# 查看评分分布，以决定如何将评分转换为情感标签\n",
    "rating_distribution = data['评分'].value_counts()\n",
    "\n",
    "missing_values, rating_distribution\n"
   ]
  },
  {
   "cell_type": "code",
   "execution_count": 6,
   "metadata": {},
   "outputs": [
    {
     "data": {
      "text/plain": [
       "((3102, 279), (776, 279), (3102,), (776,))"
      ]
     },
     "execution_count": 6,
     "metadata": {},
     "output_type": "execute_result"
    }
   ],
   "source": [
    "from sklearn.model_selection import train_test_split\n",
    "from sklearn.feature_extraction.text import TfidfVectorizer\n",
    "\n",
    "# 将评分转换为情感标签：正面(1)和负面(0)\n",
    "data['情感标签'] = data['评分'].apply(lambda x: 1 if x > 3 else 0)\n",
    "\n",
    "# 分离特征和标签\n",
    "X = data['评论内容']\n",
    "y = data['情感标签']\n",
    "\n",
    "# 文本向量化\n",
    "tfidf_vectorizer = TfidfVectorizer(max_features=1000, min_df=5, max_df=0.9, stop_words=['的', '了', '在', '是', '我'])\n",
    "X_tfidf = tfidf_vectorizer.fit_transform(X)\n",
    "\n",
    "# 分割数据集\n",
    "X_train, X_test, y_train, y_test = train_test_split(X_tfidf, y, test_size=0.2, random_state=42)\n",
    "\n",
    "# 检查向量化后的特征维度和分割的数据集大小\n",
    "X_train.shape, X_test.shape, y_train.shape, y_test.shape\n"
   ]
  },
  {
   "cell_type": "code",
   "execution_count": 7,
   "metadata": {},
   "outputs": [
    {
     "data": {
      "text/plain": [
       "((0.9922680412371134, 0.9961190168175937),\n",
       " (0.9922680412371134, 0.9961190168175937),\n",
       " (0.9922680412371134, 0.9961190168175937))"
      ]
     },
     "execution_count": 7,
     "metadata": {},
     "output_type": "execute_result"
    }
   ],
   "source": [
    "from sklearn.linear_model import LogisticRegression\n",
    "from sklearn.metrics import accuracy_score, f1_score\n",
    "from sklearn.svm import SVC\n",
    "from sklearn.ensemble import RandomForestClassifier\n",
    "\n",
    "# 初始化模型\n",
    "lr_model = LogisticRegression(random_state=42)\n",
    "svm_model = SVC(random_state=42)\n",
    "rf_model = RandomForestClassifier(random_state=42)\n",
    "\n",
    "# 训练模型\n",
    "lr_model.fit(X_train, y_train)\n",
    "svm_model.fit(X_train, y_train)\n",
    "rf_model.fit(X_train, y_train)\n",
    "\n",
    "# 预测测试集\n",
    "lr_predictions = lr_model.predict(X_test)\n",
    "svm_predictions = svm_model.predict(X_test)\n",
    "rf_predictions = rf_model.predict(X_test)\n",
    "\n",
    "# 评估模型\n",
    "lr_accuracy = accuracy_score(y_test, lr_predictions)\n",
    "lr_f1 = f1_score(y_test, lr_predictions)\n",
    "\n",
    "svm_accuracy = accuracy_score(y_test, svm_predictions)\n",
    "svm_f1 = f1_score(y_test, svm_predictions)\n",
    "\n",
    "rf_accuracy = accuracy_score(y_test, rf_predictions)\n",
    "rf_f1 = f1_score(y_test, rf_predictions)\n",
    "\n",
    "(lr_accuracy, lr_f1), (svm_accuracy, svm_f1), (rf_accuracy, rf_f1)\n"
   ]
  }
 ],
 "metadata": {
  "kernelspec": {
   "display_name": "Python 3",
   "language": "python",
   "name": "python3"
  },
  "language_info": {
   "codemirror_mode": {
    "name": "ipython",
    "version": 3
   },
   "file_extension": ".py",
   "mimetype": "text/x-python",
   "name": "python",
   "nbconvert_exporter": "python",
   "pygments_lexer": "ipython3",
   "version": "3.10.13"
  }
 },
 "nbformat": 4,
 "nbformat_minor": 2
}
