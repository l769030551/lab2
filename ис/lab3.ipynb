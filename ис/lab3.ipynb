{
 "cells": [
  {
   "cell_type": "code",
   "execution_count": 1,
   "metadata": {},
   "outputs": [],
   "source": [
    "import pandas as pd\n",
    "\n",
    "# 指定CSV文件路径\n",
    "csv_file_path = '/Users/liuyifeng/Desktop/信息系统/北京.csv'\n",
    "\n",
    "# 读取CSV文件\n",
    "df = pd.read_csv(csv_file_path)\n",
    "\n",
    "\n",
    "df.drop('昵称', axis=1, inplace=True)\n",
    "df.drop('ip属地', axis=1, inplace=True)\n",
    "\n",
    "df.to_csv(csv_file_path, index=False)\n"
   ]
  },
  {
   "cell_type": "code",
   "execution_count": 3,
   "metadata": {},
   "outputs": [
    {
     "name": "stdout",
     "output_type": "stream",
     "text": [
      "Проверка данных пройдена!\n"
     ]
    }
   ],
   "source": [
    "import pandas as pd\n",
    "\n",
    "# 加载CSV文件\n",
    "df = pd.read_csv(csv_file_path)\n",
    "\n",
    "# 指定要检查缺失数据的三列列名\n",
    "columns_to_check = ['评论内容','评论时间','评分','点赞数','景点名称','城市','省份']\n",
    "\n",
    "\n",
    "rows_with_missing_data = df[df[columns_to_check].isnull().any(axis=1)]\n",
    "\n",
    "# 如果存在含有缺失数据的行，打印出这些行的信息\n",
    "if not rows_with_missing_data.empty:\n",
    "    print(\"Строки с отсутствующими данными будут удалены：\")\n",
    "    print(rows_with_missing_data)\n",
    "else:\n",
    "    print('Проверка данных пройдена!')\n",
    "\n",
    "# 检查这三列中任意一列是否有缺失数据，并删除这些行\n",
    "df_cleaned = df.dropna(subset=columns_to_check)\n",
    "\n",
    "# 保存清理后的DataFrame到新的CSV文件\n",
    "df_cleaned.to_csv(csv_file_path, index=False, encoding='utf-8-sig')\n"
   ]
  }
 ],
 "metadata": {
  "kernelspec": {
   "display_name": "Python 3",
   "language": "python",
   "name": "python3"
  },
  "language_info": {
   "codemirror_mode": {
    "name": "ipython",
    "version": 3
   },
   "file_extension": ".py",
   "mimetype": "text/x-python",
   "name": "python",
   "nbconvert_exporter": "python",
   "pygments_lexer": "ipython3",
   "version": "3.12.2"
  }
 },
 "nbformat": 4,
 "nbformat_minor": 2
}
